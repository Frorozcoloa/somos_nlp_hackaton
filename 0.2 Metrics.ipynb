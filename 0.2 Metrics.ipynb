{
 "cells": [
  {
   "attachments": {},
   "cell_type": "markdown",
   "metadata": {},
   "source": [
    "# Evaluación y métricas de los datos. \n",
    "Este es análisis exploratorio de los datos. La idea de este EDA es mitigar los sesgos.\n",
    "Este tutorial se hace con referencia al <a href = \"https://www.youtube.com/watch?v=Ng2Yb7qrfY4&ab_channel=SomosNLP\">Keynote</a>"
   ]
  },
  {
   "cell_type": "code",
   "execution_count": 1,
   "metadata": {},
   "outputs": [
    {
     "name": "stderr",
     "output_type": "stream",
     "text": [
      "c:\\Users\\froro\\OneDrive\\Escritorio\\Hackaton\\.nlp\\lib\\site-packages\\tqdm\\auto.py:21: TqdmWarning: IProgress not found. Please update jupyter and ipywidgets. See https://ipywidgets.readthedocs.io/en/stable/user_install.html\n",
      "  from .autonotebook import tqdm as notebook_tqdm\n"
     ]
    },
    {
     "data": {
      "text/html": [
       "<div>\n",
       "<style scoped>\n",
       "    .dataframe tbody tr th:only-of-type {\n",
       "        vertical-align: middle;\n",
       "    }\n",
       "\n",
       "    .dataframe tbody tr th {\n",
       "        vertical-align: top;\n",
       "    }\n",
       "\n",
       "    .dataframe thead th {\n",
       "        text-align: right;\n",
       "    }\n",
       "</style>\n",
       "<table border=\"1\" class=\"dataframe\">\n",
       "  <thead>\n",
       "    <tr style=\"text-align: right;\">\n",
       "      <th></th>\n",
       "      <th>hechos</th>\n",
       "      <th>intervencion</th>\n",
       "      <th>resultado</th>\n",
       "      <th>fecha_hechos</th>\n",
       "      <th>fecha_denuncia</th>\n",
       "      <th>provincia</th>\n",
       "      <th>ambito</th>\n",
       "      <th>tipo_desciminacion</th>\n",
       "      <th>reference</th>\n",
       "      <th>link</th>\n",
       "      <th>sentiment</th>\n",
       "      <th>prob</th>\n",
       "    </tr>\n",
       "  </thead>\n",
       "  <tbody>\n",
       "    <tr>\n",
       "      <th>0</th>\n",
       "      <td>El periódico digital Salamanca24h publicó una ...</td>\n",
       "      <td>Se envió carta a la dirección del medio, con c...</td>\n",
       "      <td>Negativo. El medio no contestó.</td>\n",
       "      <td>2021-01-01T00:00:00+01:00</td>\n",
       "      <td>2021-01-01T00:00:00+01:00</td>\n",
       "      <td>Salamanca</td>\n",
       "      <td>Medios de comunicación</td>\n",
       "      <td>Discriminación directa</td>\n",
       "      <td>['https://www.salamanca24horas.com/sucesos/pol...</td>\n",
       "      <td>https://informesdiscriminacion.gitanos.org/cas...</td>\n",
       "      <td>NEG</td>\n",
       "      <td>0.507522</td>\n",
       "    </tr>\n",
       "    <tr>\n",
       "      <th>1</th>\n",
       "      <td>El diario Lanza Digital publicó una noticia en...</td>\n",
       "      <td>Enviamos carta a la directora del diario trasm...</td>\n",
       "      <td>Positivo. Se eliminó la mención a la etnia de ...</td>\n",
       "      <td>2021-01-01T00:00:00+01:00</td>\n",
       "      <td>2021-01-01T00:00:00+01:00</td>\n",
       "      <td>Ciudad Real</td>\n",
       "      <td>Medios de comunicación</td>\n",
       "      <td>Discriminación directa</td>\n",
       "      <td>['https://www.lanzadigital.com/provincia/puert...</td>\n",
       "      <td>https://informesdiscriminacion.gitanos.org/cas...</td>\n",
       "      <td>NEU</td>\n",
       "      <td>0.772065</td>\n",
       "    </tr>\n",
       "    <tr>\n",
       "      <th>2</th>\n",
       "      <td>El diario ABC de Sevilla publicó una noticia c...</td>\n",
       "      <td>Se mantuvo una conversación telefónica con un ...</td>\n",
       "      <td>Positivo. Se consiguió que rectificaran.</td>\n",
       "      <td>2021-01-01T00:00:00+01:00</td>\n",
       "      <td>2021-01-01T00:00:00+01:00</td>\n",
       "      <td>Sevilla</td>\n",
       "      <td>Medios de comunicación</td>\n",
       "      <td>Discriminación directa</td>\n",
       "      <td>['https://sevilla.abc.es/provincia/sevi-invest...</td>\n",
       "      <td>https://informesdiscriminacion.gitanos.org/cas...</td>\n",
       "      <td>POS</td>\n",
       "      <td>0.661231</td>\n",
       "    </tr>\n",
       "    <tr>\n",
       "      <th>3</th>\n",
       "      <td>En la versión digital del diario Última hora s...</td>\n",
       "      <td>Se envió un correo al medio solicitándole la e...</td>\n",
       "      <td>Negativo. El medio no contestó.</td>\n",
       "      <td>2021-01-01T00:00:00+01:00</td>\n",
       "      <td>2021-01-01T00:00:00+01:00</td>\n",
       "      <td>Baleares</td>\n",
       "      <td>Medios de comunicación</td>\n",
       "      <td>Discriminación directa</td>\n",
       "      <td>['https://www.ultimahora.es/sucesos/ultimas/20...</td>\n",
       "      <td>https://informesdiscriminacion.gitanos.org/cas...</td>\n",
       "      <td>NEG</td>\n",
       "      <td>0.507522</td>\n",
       "    </tr>\n",
       "    <tr>\n",
       "      <th>4</th>\n",
       "      <td>Dos medios de comunicación de Asturias se hici...</td>\n",
       "      <td>Se enviaron cartas a ambos medios solicitando ...</td>\n",
       "      <td>Negativo.</td>\n",
       "      <td>2021-01-01T00:00:00+01:00</td>\n",
       "      <td>2021-01-01T00:00:00+01:00</td>\n",
       "      <td>Asturias</td>\n",
       "      <td>Medios de comunicación</td>\n",
       "      <td>Discriminación directa</td>\n",
       "      <td>['https://www.lne.es/oviedo/2021/02/15/detenid...</td>\n",
       "      <td>https://informesdiscriminacion.gitanos.org/cas...</td>\n",
       "      <td>NEU</td>\n",
       "      <td>0.549190</td>\n",
       "    </tr>\n",
       "  </tbody>\n",
       "</table>\n",
       "</div>"
      ],
      "text/plain": [
       "                                              hechos  \\\n",
       "0  El periódico digital Salamanca24h publicó una ...   \n",
       "1  El diario Lanza Digital publicó una noticia en...   \n",
       "2  El diario ABC de Sevilla publicó una noticia c...   \n",
       "3  En la versión digital del diario Última hora s...   \n",
       "4  Dos medios de comunicación de Asturias se hici...   \n",
       "\n",
       "                                        intervencion  \\\n",
       "0  Se envió carta a la dirección del medio, con c...   \n",
       "1  Enviamos carta a la directora del diario trasm...   \n",
       "2  Se mantuvo una conversación telefónica con un ...   \n",
       "3  Se envió un correo al medio solicitándole la e...   \n",
       "4  Se enviaron cartas a ambos medios solicitando ...   \n",
       "\n",
       "                                           resultado  \\\n",
       "0                   Negativo. El medio no contestó.    \n",
       "1  Positivo. Se eliminó la mención a la etnia de ...   \n",
       "2           Positivo. Se consiguió que rectificaran.   \n",
       "3                   Negativo. El medio no contestó.    \n",
       "4                                         Negativo.    \n",
       "\n",
       "                fecha_hechos             fecha_denuncia    provincia  \\\n",
       "0  2021-01-01T00:00:00+01:00  2021-01-01T00:00:00+01:00    Salamanca   \n",
       "1  2021-01-01T00:00:00+01:00  2021-01-01T00:00:00+01:00  Ciudad Real   \n",
       "2  2021-01-01T00:00:00+01:00  2021-01-01T00:00:00+01:00      Sevilla   \n",
       "3  2021-01-01T00:00:00+01:00  2021-01-01T00:00:00+01:00     Baleares   \n",
       "4  2021-01-01T00:00:00+01:00  2021-01-01T00:00:00+01:00     Asturias   \n",
       "\n",
       "                   ambito      tipo_desciminacion  \\\n",
       "0  Medios de comunicación  Discriminación directa   \n",
       "1  Medios de comunicación  Discriminación directa   \n",
       "2  Medios de comunicación  Discriminación directa   \n",
       "3  Medios de comunicación  Discriminación directa   \n",
       "4  Medios de comunicación  Discriminación directa   \n",
       "\n",
       "                                           reference  \\\n",
       "0  ['https://www.salamanca24horas.com/sucesos/pol...   \n",
       "1  ['https://www.lanzadigital.com/provincia/puert...   \n",
       "2  ['https://sevilla.abc.es/provincia/sevi-invest...   \n",
       "3  ['https://www.ultimahora.es/sucesos/ultimas/20...   \n",
       "4  ['https://www.lne.es/oviedo/2021/02/15/detenid...   \n",
       "\n",
       "                                                link sentiment      prob  \n",
       "0  https://informesdiscriminacion.gitanos.org/cas...       NEG  0.507522  \n",
       "1  https://informesdiscriminacion.gitanos.org/cas...       NEU  0.772065  \n",
       "2  https://informesdiscriminacion.gitanos.org/cas...       POS  0.661231  \n",
       "3  https://informesdiscriminacion.gitanos.org/cas...       NEG  0.507522  \n",
       "4  https://informesdiscriminacion.gitanos.org/cas...       NEU  0.549190  "
      ]
     },
     "execution_count": 1,
     "metadata": {},
     "output_type": "execute_result"
    }
   ],
   "source": [
    "# Impotamos las librerías y el dataset\n",
    "import pandas as pd\n",
    "from disaggregators import Disaggregator\n",
    "\n",
    "df = pd.read_csv(\"Datasets\\informe_completo_score.csv\")\n",
    "df.head()"
   ]
  },
  {
   "cell_type": "code",
   "execution_count": 2,
   "metadata": {},
   "outputs": [
    {
     "ename": "NameError",
     "evalue": "name 'load_dataset' is not defined",
     "output_type": "error",
     "traceback": [
      "\u001b[1;31m---------------------------------------------------------------------------\u001b[0m",
      "\u001b[1;31mNameError\u001b[0m                                 Traceback (most recent call last)",
      "Cell \u001b[1;32mIn[2], line 1\u001b[0m\n\u001b[1;32m----> 1\u001b[0m load_dataset(\u001b[39m\"\u001b[39m\u001b[39mmd_gender_bias\u001b[39m\u001b[39m\"\u001b[39m, \u001b[39m\"\u001b[39m\u001b[39mgendered_words\u001b[39m\u001b[39m\"\u001b[39m, split\u001b[39m=\u001b[39m\u001b[39m\"\u001b[39m\u001b[39mtrain\u001b[39m\u001b[39m\"\u001b[39m)\u001b[39m.\u001b[39mto_pandas()\n",
      "\u001b[1;31mNameError\u001b[0m: name 'load_dataset' is not defined"
     ]
    }
   ],
   "source": [
    "load_dataset(\"md_gender_bias\", \"gendered_words\", split=\"train\").to_pandas()"
   ]
  },
  {
   "cell_type": "code",
   "execution_count": 12,
   "metadata": {},
   "outputs": [],
   "source": [
    "from disaggregators.disaggregation_modules import Gender\n",
    "from disaggregators import DisaggregationModule, DisaggregationModuleConfig, DisaggregationModuleLabels, CustomDisaggregator"
   ]
  },
  {
   "cell_type": "code",
   "execution_count": 13,
   "metadata": {},
   "outputs": [],
   "source": [
    "class GenderSpanishLabels(DisaggregationModuleLabels):\n",
    "    MALE = \"Hombre\"\n",
    "    FEMALE = \"Mujer\"\n",
    "\n",
    "class GenderSpanish(CustomDisaggregator):\n",
    "    module_id = \"gender_spanish\"\n",
    "    labels = GenderSpanishLabels\n",
    "    spacy_model = \"es_core_web_lg\"\n",
    "    \n",
    "    def __call__(self, row, *args, **kwargs):\n",
    "        return super().__call__(row, *args, **kwargs)"
   ]
  },
  {
   "cell_type": "code",
   "execution_count": null,
   "metadata": {},
   "outputs": [],
   "source": [
    "df[\"hechos\"].to_frame"
   ]
  },
  {
   "cell_type": "code",
   "execution_count": 17,
   "metadata": {},
   "outputs": [
    {
     "ename": "NotImplementedError",
     "evalue": "",
     "output_type": "error",
     "traceback": [
      "\u001b[1;31m---------------------------------------------------------------------------\u001b[0m",
      "\u001b[1;31mNotImplementedError\u001b[0m                       Traceback (most recent call last)",
      "Cell \u001b[1;32mIn[17], line 4\u001b[0m\n\u001b[0;32m      2\u001b[0m disaggregator \u001b[39m=\u001b[39m Disaggregator(GenderSpanish, column\u001b[39m=\u001b[39m\u001b[39m\"\u001b[39m\u001b[39mtext\u001b[39m\u001b[39m\"\u001b[39m)\n\u001b[0;32m      3\u001b[0m hechos \u001b[39m=\u001b[39m df[\u001b[39m\"\u001b[39m\u001b[39mhechos\u001b[39m\u001b[39m\"\u001b[39m]\u001b[39m.\u001b[39mto_frame(\u001b[39m\"\u001b[39m\u001b[39mtext\u001b[39m\u001b[39m\"\u001b[39m)\n\u001b[1;32m----> 4\u001b[0m hechos\u001b[39m.\u001b[39;49mapply(disaggregator, axis\u001b[39m=\u001b[39;49m\u001b[39m1\u001b[39;49m)\n",
      "File \u001b[1;32mc:\\Users\\froro\\OneDrive\\Escritorio\\Hackaton\\.nlp\\lib\\site-packages\\pandas\\core\\frame.py:8848\u001b[0m, in \u001b[0;36mDataFrame.apply\u001b[1;34m(self, func, axis, raw, result_type, args, **kwargs)\u001b[0m\n\u001b[0;32m   8837\u001b[0m \u001b[39mfrom\u001b[39;00m \u001b[39mpandas\u001b[39;00m\u001b[39m.\u001b[39;00m\u001b[39mcore\u001b[39;00m\u001b[39m.\u001b[39;00m\u001b[39mapply\u001b[39;00m \u001b[39mimport\u001b[39;00m frame_apply\n\u001b[0;32m   8839\u001b[0m op \u001b[39m=\u001b[39m frame_apply(\n\u001b[0;32m   8840\u001b[0m     \u001b[39mself\u001b[39m,\n\u001b[0;32m   8841\u001b[0m     func\u001b[39m=\u001b[39mfunc,\n\u001b[1;32m   (...)\u001b[0m\n\u001b[0;32m   8846\u001b[0m     kwargs\u001b[39m=\u001b[39mkwargs,\n\u001b[0;32m   8847\u001b[0m )\n\u001b[1;32m-> 8848\u001b[0m \u001b[39mreturn\u001b[39;00m op\u001b[39m.\u001b[39;49mapply()\u001b[39m.\u001b[39m__finalize__(\u001b[39mself\u001b[39m, method\u001b[39m=\u001b[39m\u001b[39m\"\u001b[39m\u001b[39mapply\u001b[39m\u001b[39m\"\u001b[39m)\n",
      "File \u001b[1;32mc:\\Users\\froro\\OneDrive\\Escritorio\\Hackaton\\.nlp\\lib\\site-packages\\pandas\\core\\apply.py:733\u001b[0m, in \u001b[0;36mFrameApply.apply\u001b[1;34m(self)\u001b[0m\n\u001b[0;32m    730\u001b[0m \u001b[39melif\u001b[39;00m \u001b[39mself\u001b[39m\u001b[39m.\u001b[39mraw:\n\u001b[0;32m    731\u001b[0m     \u001b[39mreturn\u001b[39;00m \u001b[39mself\u001b[39m\u001b[39m.\u001b[39mapply_raw()\n\u001b[1;32m--> 733\u001b[0m \u001b[39mreturn\u001b[39;00m \u001b[39mself\u001b[39;49m\u001b[39m.\u001b[39;49mapply_standard()\n",
      "File \u001b[1;32mc:\\Users\\froro\\OneDrive\\Escritorio\\Hackaton\\.nlp\\lib\\site-packages\\pandas\\core\\apply.py:857\u001b[0m, in \u001b[0;36mFrameApply.apply_standard\u001b[1;34m(self)\u001b[0m\n\u001b[0;32m    856\u001b[0m \u001b[39mdef\u001b[39;00m \u001b[39mapply_standard\u001b[39m(\u001b[39mself\u001b[39m):\n\u001b[1;32m--> 857\u001b[0m     results, res_index \u001b[39m=\u001b[39m \u001b[39mself\u001b[39;49m\u001b[39m.\u001b[39;49mapply_series_generator()\n\u001b[0;32m    859\u001b[0m     \u001b[39m# wrap results\u001b[39;00m\n\u001b[0;32m    860\u001b[0m     \u001b[39mreturn\u001b[39;00m \u001b[39mself\u001b[39m\u001b[39m.\u001b[39mwrap_results(results, res_index)\n",
      "File \u001b[1;32mc:\\Users\\froro\\OneDrive\\Escritorio\\Hackaton\\.nlp\\lib\\site-packages\\pandas\\core\\apply.py:873\u001b[0m, in \u001b[0;36mFrameApply.apply_series_generator\u001b[1;34m(self)\u001b[0m\n\u001b[0;32m    870\u001b[0m \u001b[39mwith\u001b[39;00m option_context(\u001b[39m\"\u001b[39m\u001b[39mmode.chained_assignment\u001b[39m\u001b[39m\"\u001b[39m, \u001b[39mNone\u001b[39;00m):\n\u001b[0;32m    871\u001b[0m     \u001b[39mfor\u001b[39;00m i, v \u001b[39min\u001b[39;00m \u001b[39menumerate\u001b[39m(series_gen):\n\u001b[0;32m    872\u001b[0m         \u001b[39m# ignore SettingWithCopy here in case the user mutates\u001b[39;00m\n\u001b[1;32m--> 873\u001b[0m         results[i] \u001b[39m=\u001b[39m \u001b[39mself\u001b[39;49m\u001b[39m.\u001b[39;49mf(v)\n\u001b[0;32m    874\u001b[0m         \u001b[39mif\u001b[39;00m \u001b[39misinstance\u001b[39m(results[i], ABCSeries):\n\u001b[0;32m    875\u001b[0m             \u001b[39m# If we have a view on v, we need to make a copy because\u001b[39;00m\n\u001b[0;32m    876\u001b[0m             \u001b[39m#  series_generator will swap out the underlying data\u001b[39;00m\n\u001b[0;32m    877\u001b[0m             results[i] \u001b[39m=\u001b[39m results[i]\u001b[39m.\u001b[39mcopy(deep\u001b[39m=\u001b[39m\u001b[39mFalse\u001b[39;00m)\n",
      "File \u001b[1;32mc:\\Users\\froro\\OneDrive\\Escritorio\\Hackaton\\.nlp\\lib\\site-packages\\disaggregators\\disaggregator.py:45\u001b[0m, in \u001b[0;36mDisaggregator.__call__\u001b[1;34m(self, x)\u001b[0m\n\u001b[0;32m     44\u001b[0m \u001b[39mdef\u001b[39;00m \u001b[39m__call__\u001b[39m(\u001b[39mself\u001b[39m, x) \u001b[39m-\u001b[39m\u001b[39m>\u001b[39m Callable:\n\u001b[1;32m---> 45\u001b[0m     \u001b[39mreturn\u001b[39;00m \u001b[39mself\u001b[39;49m\u001b[39m.\u001b[39;49mget_function()(x)\n",
      "File \u001b[1;32mc:\\Users\\froro\\OneDrive\\Escritorio\\Hackaton\\.nlp\\lib\\site-packages\\disaggregators\\disaggregator.py:40\u001b[0m, in \u001b[0;36mDisaggregator.get_function.<locals>.<lambda>\u001b[1;34m(x)\u001b[0m\n\u001b[0;32m     36\u001b[0m \u001b[39mdef\u001b[39;00m \u001b[39mget_function\u001b[39m(\u001b[39mself\u001b[39m) \u001b[39m-\u001b[39m\u001b[39m>\u001b[39m Callable:\n\u001b[0;32m     37\u001b[0m     \u001b[39m# Merge dicts - https://stackoverflow.com/a/3495395\u001b[39;00m\n\u001b[0;32m     38\u001b[0m     \u001b[39mreturn\u001b[39;00m \u001b[39mlambda\u001b[39;00m x: {\n\u001b[0;32m     39\u001b[0m         \u001b[39mf\u001b[39m\u001b[39m\"\u001b[39m\u001b[39m{\u001b[39;00md[\u001b[39m0\u001b[39m]\u001b[39m}\u001b[39;00m\u001b[39m.\u001b[39m\u001b[39m{\u001b[39;00m\u001b[39mstr\u001b[39m(k)\u001b[39m}\u001b[39;00m\u001b[39m\"\u001b[39m: v\n\u001b[1;32m---> 40\u001b[0m         \u001b[39mfor\u001b[39;00m d \u001b[39min\u001b[39;00m [(module\u001b[39m.\u001b[39mname, module(x)) \u001b[39mfor\u001b[39;00m module \u001b[39min\u001b[39;00m \u001b[39mself\u001b[39m\u001b[39m.\u001b[39mmodules]\n\u001b[0;32m     41\u001b[0m         \u001b[39mfor\u001b[39;00m k, v \u001b[39min\u001b[39;00m d[\u001b[39m1\u001b[39m]\u001b[39m.\u001b[39mitems()\n\u001b[0;32m     42\u001b[0m     }\n",
      "File \u001b[1;32mc:\\Users\\froro\\OneDrive\\Escritorio\\Hackaton\\.nlp\\lib\\site-packages\\disaggregators\\disaggregator.py:40\u001b[0m, in \u001b[0;36m<listcomp>\u001b[1;34m(.0)\u001b[0m\n\u001b[0;32m     36\u001b[0m \u001b[39mdef\u001b[39;00m \u001b[39mget_function\u001b[39m(\u001b[39mself\u001b[39m) \u001b[39m-\u001b[39m\u001b[39m>\u001b[39m Callable:\n\u001b[0;32m     37\u001b[0m     \u001b[39m# Merge dicts - https://stackoverflow.com/a/3495395\u001b[39;00m\n\u001b[0;32m     38\u001b[0m     \u001b[39mreturn\u001b[39;00m \u001b[39mlambda\u001b[39;00m x: {\n\u001b[0;32m     39\u001b[0m         \u001b[39mf\u001b[39m\u001b[39m\"\u001b[39m\u001b[39m{\u001b[39;00md[\u001b[39m0\u001b[39m]\u001b[39m}\u001b[39;00m\u001b[39m.\u001b[39m\u001b[39m{\u001b[39;00m\u001b[39mstr\u001b[39m(k)\u001b[39m}\u001b[39;00m\u001b[39m\"\u001b[39m: v\n\u001b[1;32m---> 40\u001b[0m         \u001b[39mfor\u001b[39;00m d \u001b[39min\u001b[39;00m [(module\u001b[39m.\u001b[39mname, module(x)) \u001b[39mfor\u001b[39;00m module \u001b[39min\u001b[39;00m \u001b[39mself\u001b[39m\u001b[39m.\u001b[39mmodules]\n\u001b[0;32m     41\u001b[0m         \u001b[39mfor\u001b[39;00m k, v \u001b[39min\u001b[39;00m d[\u001b[39m1\u001b[39m]\u001b[39m.\u001b[39mitems()\n\u001b[0;32m     42\u001b[0m     }\n",
      "Cell \u001b[1;32mIn[13], line 11\u001b[0m, in \u001b[0;36mGenderSpanish.__call__\u001b[1;34m(self, row, *args, **kwargs)\u001b[0m\n\u001b[0;32m     10\u001b[0m \u001b[39mdef\u001b[39;00m \u001b[39m__call__\u001b[39m(\u001b[39mself\u001b[39m, row, \u001b[39m*\u001b[39margs, \u001b[39m*\u001b[39m\u001b[39m*\u001b[39mkwargs):\n\u001b[1;32m---> 11\u001b[0m     \u001b[39mreturn\u001b[39;00m \u001b[39msuper\u001b[39m()\u001b[39m.\u001b[39m\u001b[39m__call__\u001b[39m(row, \u001b[39m*\u001b[39margs, \u001b[39m*\u001b[39m\u001b[39m*\u001b[39mkwargs)\n",
      "File \u001b[1;32mc:\\Users\\froro\\OneDrive\\Escritorio\\Hackaton\\.nlp\\lib\\site-packages\\disaggregators\\disaggregation_modules\\disaggregation_module.py:28\u001b[0m, in \u001b[0;36mDisaggregationModule.__call__\u001b[1;34m(self, row, *args, **kwargs)\u001b[0m\n\u001b[0;32m     26\u001b[0m \u001b[39m@abstractmethod\u001b[39m\n\u001b[0;32m     27\u001b[0m \u001b[39mdef\u001b[39;00m \u001b[39m__call__\u001b[39m(\u001b[39mself\u001b[39m, row, \u001b[39m*\u001b[39margs, \u001b[39m*\u001b[39m\u001b[39m*\u001b[39mkwargs):\n\u001b[1;32m---> 28\u001b[0m     \u001b[39mraise\u001b[39;00m \u001b[39mNotImplementedError\u001b[39;00m()\n",
      "\u001b[1;31mNotImplementedError\u001b[0m: "
     ]
    }
   ],
   "source": [
    "from disaggregators import Disaggregator\n",
    "disaggregator = Disaggregator(GenderSpanish, column=\"text\")\n",
    "hechos = df[\"hechos\"].to_frame(\"text\")\n",
    "hechos.apply(disaggregator, axis=1)"
   ]
  }
 ],
 "metadata": {
  "kernelspec": {
   "display_name": ".nlp",
   "language": "python",
   "name": "python3"
  },
  "language_info": {
   "codemirror_mode": {
    "name": "ipython",
    "version": 3
   },
   "file_extension": ".py",
   "mimetype": "text/x-python",
   "name": "python",
   "nbconvert_exporter": "python",
   "pygments_lexer": "ipython3",
   "version": "3.10.10"
  },
  "orig_nbformat": 4
 },
 "nbformat": 4,
 "nbformat_minor": 2
}

{
 "cells": [
  {
   "cell_type": "code",
   "execution_count": 1,
   "metadata": {},
   "outputs": [],
   "source": [
    "%load_ext autoreload\n",
    "%autoreload 2\n",
    "\n",
    "import uuid\n",
    "import newspaper\n",
    "from datetime import datetime\n",
    "import pandas as pd\n",
    "import traceback"
   ]
  },
  {
   "cell_type": "code",
   "execution_count": 2,
   "metadata": {},
   "outputs": [],
   "source": [
    "def scrape_urls(list_articles):\n",
    "    \"\"\"\n",
    "    Utiliza los webpages para luego scraper y asignar una categoria a la noticia\n",
    "    Args:\n",
    "        webpage_urls (list): Urls a las cuales se le quieren hacer los scraping\n",
    "        category (str): nombre de la categoria\n",
    "    Returns:\n",
    "        df: DataFrame con las noticas no duplicadadas\n",
    "    \"\"\"    \n",
    "    scraped_info = {}\n",
    "\n",
    "    for i,article in enumerate(list_articles):\n",
    "        try:\n",
    "            print(i)\n",
    "            print('-'*50)\n",
    "            print(article.url)\n",
    "            article.download()\n",
    "            article.parse()\n",
    "            \n",
    "            news_date = datetime.strftime(article.publish_date, \"%Y-%m-%d\")\n",
    "\n",
    "            print(news_date)\n",
    "            scraped_info[i] = {'news_id': uuid.uuid4(),\n",
    "                            'news_url_absolute': article.url,\n",
    "                            'news_init_date' : news_date,\n",
    "                            'news_final_date' : news_date,\n",
    "                            'news_title':article.title,\n",
    "                            'news_text_content' : article.text,\n",
    "                                }\n",
    "        except:\n",
    "            print(traceback.print_exc())\n",
    "    df = pd.DataFrame.from_records(scraped_info).T\n",
    "    scraped_deduped = df.drop_duplicates(subset=['news_url_absolute'])\n",
    "    print(f'Amount of news scraped: {len(scraped_deduped)}')\n",
    "    return scraped_deduped"
   ]
  },
  {
   "cell_type": "code",
   "execution_count": 3,
   "metadata": {},
   "outputs": [
    {
     "name": "stdout",
     "output_type": "stream",
     "text": [
      "0\n",
      "--------------------------------------------------\n",
      "https://unionromani.org/que-es-la-union-del-pueblo-romani/\n"
     ]
    },
    {
     "name": "stderr",
     "output_type": "stream",
     "text": [
      "Traceback (most recent call last):\n",
      "  File \"C:\\Users\\froro\\AppData\\Local\\Temp\\ipykernel_20048\\2458422773.py\", line 20, in scrape_urls\n",
      "    news_date = datetime.strftime(article.publish_date, \"%Y-%m-%d\")\n",
      "TypeError: descriptor 'strftime' for 'datetime.date' objects doesn't apply to a 'NoneType' object\n"
     ]
    },
    {
     "name": "stdout",
     "output_type": "stream",
     "text": [
      "None\n",
      "1\n",
      "--------------------------------------------------\n",
      "https://unionromani.org/2023/03/22/instituto-romano-estrena-la-v-edicion-de-sus-cursos-sobre-poblacion-gitana-en-exclusion-en-zaragoza-salamanca-y-valladolid/\n",
      "2023-03-22\n",
      "2\n",
      "--------------------------------------------------\n",
      "https://unionromani.org/2023/03/20/en-busca-del-mejor-relato-sobre-la-mujer-gitana/\n",
      "2023-03-20\n",
      "3\n",
      "--------------------------------------------------\n",
      "https://unionromani.org/2023/03/20/lucia-y-daniel-protagonistas-de-una-boda-gitana-con-casi-1-000-invitados/\n",
      "2023-03-20\n",
      "4\n",
      "--------------------------------------------------\n",
      "https://unionromani.org/2023/03/20/los-xv-premios-cofrade-ciudad-de-marbella-2023-reconocen-al-pianista-y-compositor-gitano-dorantes-como-musico-del-ano/\n",
      "2023-03-20\n",
      "5\n",
      "--------------------------------------------------\n",
      "https://unionromani.org/2023/03/20/el-muro-del-racismo-contra-la-discriminacion-racial-y-etnica/\n",
      "2023-03-20\n",
      "6\n",
      "--------------------------------------------------\n",
      "https://unionromani.org/2022/04/22/mas-de-3-000-personas-se-reunieron-para-celebrar-el-dia-mundial-de-los-romanies-en-ostrava-republica-checa-2/\n",
      "2022-04-22\n",
      "7\n",
      "--------------------------------------------------\n",
      "https://unionromani.org/2021/10/09/el-tercer-sector-y-la-agenda-2030-una-oportunidad-para-las-alianzas-transformadoras/\n",
      "2021-10-09\n",
      "8\n",
      "--------------------------------------------------\n",
      "https://unionromani.org/2021/09/22/el-pasado-mes-de-agosto-se-celebro-en-don-benito-el-encuentro-de-asociaciones-juveniles/\n",
      "2021-09-22\n",
      "9\n",
      "--------------------------------------------------\n",
      "https://unionromani.org/2021/09/07/los-gitanos-de-todo-el-mundo-no-deben-convertirse-en-chivos-expiatorios-de-los-politicos/\n",
      "2021-09-07\n",
      "10\n",
      "--------------------------------------------------\n",
      "https://unionromani.org/2021/09/03/los-obispos-colombianos-se-solidarizan-con-pueblo-gitano/\n",
      "2021-09-03\n",
      "11\n",
      "--------------------------------------------------\n",
      "https://unionromani.org/2021/07/23/la-familia-de-stanislav-tomas-publica-el-obituario-y-anuncian-que-el-funeral-sera-el-sabado/\n",
      "2021-07-23\n",
      "12\n",
      "--------------------------------------------------\n",
      "https://unionromani.org/2021/05/03/la-asociacion-gitana-drom-kotar-mestipen-organiza-un-curso-de-alfabetizacion-digital/\n",
      "2021-05-03\n",
      "13\n",
      "--------------------------------------------------\n",
      "https://unionromani.org/2021/04/14/celeste-montes-actuara-en-el-programa-flamenco-en-femenino-de-caceres-cultura/\n",
      "2021-04-14\n",
      "14\n",
      "--------------------------------------------------\n",
      "https://unionromani.org/2022/08/29/stop-ante-el-antigitanismo/\n",
      "2022-08-29\n",
      "15\n",
      "--------------------------------------------------\n",
      "https://unionromani.org/2022/08/13/la-situacion-de-los-gitanos-en-ucrania-es-insoportable/\n",
      "2022-08-13\n",
      "16\n",
      "--------------------------------------------------\n",
      "https://unionromani.org/2022/06/16/somos-350-000-gitanos-y-gitanas-andaluces/\n",
      "2022-06-16\n",
      "17\n",
      "--------------------------------------------------\n",
      "https://unionromani.org/2022/06/01/antigitanismo-igualdad-de-trato-y-codigo-penal/\n",
      "2022-06-01\n",
      "18\n",
      "--------------------------------------------------\n",
      "https://unionromani.org/2022/05/11/por-que-incluir-la-historia-y-la-cultura-del-pueblo-gitano-en-los-centros-educativos/\n",
      "2022-05-11\n",
      "19\n",
      "--------------------------------------------------\n",
      "https://unionromani.org/2022/05/10/los-ayuso-siempre-somos-unos-gitanos/\n",
      "2022-05-10\n",
      "20\n",
      "--------------------------------------------------\n",
      "https://unionromani.org/2022/04/08/dia-mundial-de-los-rroma/\n",
      "2022-04-08\n",
      "21\n",
      "--------------------------------------------------\n",
      "https://unionromani.org/2022/03/23/el-infierno-se-ha-instalado-en-ucrania/\n",
      "2022-03-23\n",
      "22\n",
      "--------------------------------------------------\n",
      "https://unionromani.org/2019/05/26/lo-juro-por-mi-honor-y-ante-dios-nuestro-senor/\n",
      "2019-05-26\n",
      "23\n",
      "--------------------------------------------------\n",
      "https://unionromani.org/2019/03/11/es-la-hora-de-la-mujer-gitana-2/\n",
      "2019-03-11\n",
      "24\n",
      "--------------------------------------------------\n",
      "https://unionromani.org/2019/03/05/juan-de-dios-ramirez-heredia-manda-un-mensaje-a-las-mujeres-gitanas-con-motivo-del-dia-internacional-de-la-mujer/\n",
      "2019-03-05\n",
      "25\n",
      "--------------------------------------------------\n",
      "https://unionromani.org/2018/09/12/siempre-nos-quedara-la-audiencia-nacional/\n",
      "2018-09-12\n",
      "26\n",
      "--------------------------------------------------\n",
      "https://unionromani.org/2018/08/15/carta-al-presidente-de-la-republica-italiana/\n",
      "2018-08-15\n",
      "27\n",
      "--------------------------------------------------\n",
      "https://unionromani.org/2018/07/26/el-dia-2-de-agosto-nos-manifestaremos-ante-la-sede-del-parlamento-italiano-en-roma/\n",
      "2018-07-26\n",
      "28\n",
      "--------------------------------------------------\n",
      "https://unionromani.org/2018/07/12/en-espana-el-antigitanismo-no-solo-no-se-castiga-sino-que-se-premia-te-nombran-asesor-de-la-ministra-de-educacion/\n",
      "2018-07-12\n",
      "29\n",
      "--------------------------------------------------\n",
      "https://unionromani.org/2018/06/28/un-clamor-gitano-se-escucho-en-toda-barcelona/\n",
      "2018-06-28\n",
      "30\n",
      "--------------------------------------------------\n",
      "https://unionromani.org/2023/03/20/agenda-oficial-del-dia-internacional-contra-el-racismo-en-barcelona/\n",
      "2023-03-20\n",
      "31\n",
      "--------------------------------------------------\n",
      "https://unionromani.org/2023/03/17/ostalinda-suarez-lleno-el-teatro-de-zafra-con-su-espectaculo-acana/\n",
      "2023-03-17\n",
      "32\n",
      "--------------------------------------------------\n",
      "https://unionromani.org/2023/03/17/impacto-de-la-ley-19-2020-de-igualdad-de-trato-y-no-discriminacion/\n",
      "2023-03-17\n",
      "33\n",
      "--------------------------------------------------\n",
      "https://unionromani.org/2023/03/17/el-fc-bayern-de-munich-en-contra-del-antigitanismo/\n",
      "2023-03-17\n",
      "34\n",
      "--------------------------------------------------\n",
      "https://unionromani.org/2023/03/17/fakali-acerca-la-cuestion-gitana-a-los-universitarios/\n",
      "2023-03-17\n",
      "35\n",
      "--------------------------------------------------\n",
      "https://unionromani.org/2023/03/17/el-pueblo-gitano-se-une-a-la-marxa-de-la-solidaritat-contra-el-racismo-en-barcelona/\n",
      "2023-03-17\n",
      "36\n",
      "--------------------------------------------------\n",
      "https://unionromani.org/2023/03/17/dia-internacional-contra-el-racismo-la-recuperacion-de-la-memoria-gitana-de-la-ciudad-de-barcelona/\n",
      "2023-03-17\n",
      "37\n",
      "--------------------------------------------------\n",
      "https://unionromani.org/2023/03/14/avances-en-inclusion-social-igualdad-y-participacion-de-la-poblacion-romani-de-castilla-la-mancha/\n",
      "2023-03-14\n",
      "38\n",
      "--------------------------------------------------\n",
      "https://unionromani.org/2023/03/14/cuidado-con-los-gitanos-impactante-anuncio-en-la-linea-a-del-metro-de-roma/\n",
      "2023-03-14\n",
      "39\n",
      "--------------------------------------------------\n",
      "https://unionromani.org/2023/03/14/taller-de-lexico-calo-y-romani-en-la-fundacion-caballero-bonald-de-cadiz/\n",
      "2023-03-14\n",
      "40\n",
      "--------------------------------------------------\n",
      "https://unionromani.org/2023/03/14/empieza-la-jornada-desafios-de-la-mujer-gitana-en-riesgo-de-exclusion-en-el-ambito-rural-en-espana/\n",
      "2023-03-14\n",
      "41\n",
      "--------------------------------------------------\n",
      "https://unionromani.org/2023/03/13/la-real-academia-espanola-de-la-lengua-copia-una-regla-fundamental-de-la-lengua-gitana/\n",
      "2023-03-13\n",
      "42\n",
      "--------------------------------------------------\n",
      "https://unionromani.org/2023/03/10/dos-nombres-de-gitanas-en-el-mapa-del-metro-de-barcelona/\n",
      "2023-03-10\n",
      "43\n",
      "--------------------------------------------------\n",
      "https://unionromani.org/2023/03/08/juan-de-dios-ramirez-heredia-montoya-es-elegido-presidente-honorario-de-la-union-romani-internacional/\n",
      "2023-03-08\n",
      "44\n",
      "--------------------------------------------------\n",
      "https://unionromani.org/2023/03/08/lorena-borja-arbitro-de-baloncesto-mediadora-social-y-referente-para-las-mujeres-de-etnia-gitana/\n",
      "2023-03-08\n",
      "45\n",
      "--------------------------------------------------\n",
      "https://unionromani.org/2023/03/\n"
     ]
    },
    {
     "name": "stderr",
     "output_type": "stream",
     "text": [
      "Traceback (most recent call last):\n",
      "  File \"C:\\Users\\froro\\AppData\\Local\\Temp\\ipykernel_20048\\2458422773.py\", line 20, in scrape_urls\n",
      "    news_date = datetime.strftime(article.publish_date, \"%Y-%m-%d\")\n",
      "TypeError: descriptor 'strftime' for 'datetime.date' objects doesn't apply to a 'NoneType' object\n"
     ]
    },
    {
     "name": "stdout",
     "output_type": "stream",
     "text": [
      "None\n",
      "46\n",
      "--------------------------------------------------\n",
      "https://unionromani.org/2023/02/\n"
     ]
    },
    {
     "name": "stderr",
     "output_type": "stream",
     "text": [
      "Traceback (most recent call last):\n",
      "  File \"C:\\Users\\froro\\AppData\\Local\\Temp\\ipykernel_20048\\2458422773.py\", line 20, in scrape_urls\n",
      "    news_date = datetime.strftime(article.publish_date, \"%Y-%m-%d\")\n",
      "TypeError: descriptor 'strftime' for 'datetime.date' objects doesn't apply to a 'NoneType' object\n"
     ]
    },
    {
     "name": "stdout",
     "output_type": "stream",
     "text": [
      "None\n",
      "47\n",
      "--------------------------------------------------\n",
      "https://unionromani.org/2023/01/\n"
     ]
    },
    {
     "name": "stderr",
     "output_type": "stream",
     "text": [
      "Traceback (most recent call last):\n",
      "  File \"C:\\Users\\froro\\AppData\\Local\\Temp\\ipykernel_20048\\2458422773.py\", line 20, in scrape_urls\n",
      "    news_date = datetime.strftime(article.publish_date, \"%Y-%m-%d\")\n",
      "TypeError: descriptor 'strftime' for 'datetime.date' objects doesn't apply to a 'NoneType' object\n"
     ]
    },
    {
     "name": "stdout",
     "output_type": "stream",
     "text": [
      "None\n",
      "48\n",
      "--------------------------------------------------\n",
      "https://unionromani.org/2022/12/\n"
     ]
    },
    {
     "name": "stderr",
     "output_type": "stream",
     "text": [
      "Traceback (most recent call last):\n",
      "  File \"C:\\Users\\froro\\AppData\\Local\\Temp\\ipykernel_20048\\2458422773.py\", line 20, in scrape_urls\n",
      "    news_date = datetime.strftime(article.publish_date, \"%Y-%m-%d\")\n",
      "TypeError: descriptor 'strftime' for 'datetime.date' objects doesn't apply to a 'NoneType' object\n"
     ]
    },
    {
     "name": "stdout",
     "output_type": "stream",
     "text": [
      "None\n",
      "49\n",
      "--------------------------------------------------\n",
      "https://unionromani.org/2022/11/\n"
     ]
    },
    {
     "name": "stderr",
     "output_type": "stream",
     "text": [
      "Traceback (most recent call last):\n",
      "  File \"C:\\Users\\froro\\AppData\\Local\\Temp\\ipykernel_20048\\2458422773.py\", line 20, in scrape_urls\n",
      "    news_date = datetime.strftime(article.publish_date, \"%Y-%m-%d\")\n",
      "TypeError: descriptor 'strftime' for 'datetime.date' objects doesn't apply to a 'NoneType' object\n"
     ]
    },
    {
     "name": "stdout",
     "output_type": "stream",
     "text": [
      "None\n",
      "50\n",
      "--------------------------------------------------\n",
      "https://unionromani.org/2022/10/\n"
     ]
    },
    {
     "name": "stderr",
     "output_type": "stream",
     "text": [
      "Traceback (most recent call last):\n",
      "  File \"C:\\Users\\froro\\AppData\\Local\\Temp\\ipykernel_20048\\2458422773.py\", line 20, in scrape_urls\n",
      "    news_date = datetime.strftime(article.publish_date, \"%Y-%m-%d\")\n",
      "TypeError: descriptor 'strftime' for 'datetime.date' objects doesn't apply to a 'NoneType' object\n"
     ]
    },
    {
     "name": "stdout",
     "output_type": "stream",
     "text": [
      "None\n",
      "51\n",
      "--------------------------------------------------\n",
      "https://unionromani.org/2022/09/\n"
     ]
    },
    {
     "name": "stderr",
     "output_type": "stream",
     "text": [
      "Traceback (most recent call last):\n",
      "  File \"C:\\Users\\froro\\AppData\\Local\\Temp\\ipykernel_20048\\2458422773.py\", line 20, in scrape_urls\n",
      "    news_date = datetime.strftime(article.publish_date, \"%Y-%m-%d\")\n",
      "TypeError: descriptor 'strftime' for 'datetime.date' objects doesn't apply to a 'NoneType' object\n"
     ]
    },
    {
     "name": "stdout",
     "output_type": "stream",
     "text": [
      "None\n",
      "52\n",
      "--------------------------------------------------\n",
      "https://unionromani.org/2022/08/\n"
     ]
    },
    {
     "name": "stderr",
     "output_type": "stream",
     "text": [
      "Traceback (most recent call last):\n",
      "  File \"C:\\Users\\froro\\AppData\\Local\\Temp\\ipykernel_20048\\2458422773.py\", line 20, in scrape_urls\n",
      "    news_date = datetime.strftime(article.publish_date, \"%Y-%m-%d\")\n",
      "TypeError: descriptor 'strftime' for 'datetime.date' objects doesn't apply to a 'NoneType' object\n"
     ]
    },
    {
     "name": "stdout",
     "output_type": "stream",
     "text": [
      "None\n",
      "53\n",
      "--------------------------------------------------\n",
      "https://unionromani.org/2022/07/\n"
     ]
    },
    {
     "name": "stderr",
     "output_type": "stream",
     "text": [
      "Traceback (most recent call last):\n",
      "  File \"C:\\Users\\froro\\AppData\\Local\\Temp\\ipykernel_20048\\2458422773.py\", line 20, in scrape_urls\n",
      "    news_date = datetime.strftime(article.publish_date, \"%Y-%m-%d\")\n",
      "TypeError: descriptor 'strftime' for 'datetime.date' objects doesn't apply to a 'NoneType' object\n"
     ]
    },
    {
     "name": "stdout",
     "output_type": "stream",
     "text": [
      "None\n",
      "54\n",
      "--------------------------------------------------\n",
      "https://unionromani.org/2022/06/\n"
     ]
    },
    {
     "name": "stderr",
     "output_type": "stream",
     "text": [
      "Traceback (most recent call last):\n",
      "  File \"C:\\Users\\froro\\AppData\\Local\\Temp\\ipykernel_20048\\2458422773.py\", line 20, in scrape_urls\n",
      "    news_date = datetime.strftime(article.publish_date, \"%Y-%m-%d\")\n",
      "TypeError: descriptor 'strftime' for 'datetime.date' objects doesn't apply to a 'NoneType' object\n"
     ]
    },
    {
     "name": "stdout",
     "output_type": "stream",
     "text": [
      "None\n",
      "55\n",
      "--------------------------------------------------\n",
      "https://unionromani.org/2022/05/\n"
     ]
    },
    {
     "name": "stderr",
     "output_type": "stream",
     "text": [
      "Traceback (most recent call last):\n",
      "  File \"C:\\Users\\froro\\AppData\\Local\\Temp\\ipykernel_20048\\2458422773.py\", line 20, in scrape_urls\n",
      "    news_date = datetime.strftime(article.publish_date, \"%Y-%m-%d\")\n",
      "TypeError: descriptor 'strftime' for 'datetime.date' objects doesn't apply to a 'NoneType' object\n"
     ]
    },
    {
     "name": "stdout",
     "output_type": "stream",
     "text": [
      "None\n",
      "56\n",
      "--------------------------------------------------\n",
      "https://unionromani.org/2022/04/\n",
      "None\n",
      "Amount of news scraped: 44\n"
     ]
    },
    {
     "name": "stderr",
     "output_type": "stream",
     "text": [
      "Traceback (most recent call last):\n",
      "  File \"C:\\Users\\froro\\AppData\\Local\\Temp\\ipykernel_20048\\2458422773.py\", line 20, in scrape_urls\n",
      "    news_date = datetime.strftime(article.publish_date, \"%Y-%m-%d\")\n",
      "TypeError: descriptor 'strftime' for 'datetime.date' objects doesn't apply to a 'NoneType' object\n"
     ]
    }
   ],
   "source": [
    "unionromani = newspaper.build('https://unionromani.org', memoize_articles=False)\n",
    "df = scrape_urls(unionromani.articles)"
   ]
  },
  {
   "cell_type": "code",
   "execution_count": 4,
   "metadata": {},
   "outputs": [],
   "source": [
    "df.to_csv('unionromani.csv', index=False)"
   ]
  }
 ],
 "metadata": {
  "kernelspec": {
   "display_name": ".nlp",
   "language": "python",
   "name": "python3"
  },
  "language_info": {
   "codemirror_mode": {
    "name": "ipython",
    "version": 3
   },
   "file_extension": ".py",
   "mimetype": "text/x-python",
   "name": "python",
   "nbconvert_exporter": "python",
   "pygments_lexer": "ipython3",
   "version": "3.10.10"
  },
  "orig_nbformat": 4
 },
 "nbformat": 4,
 "nbformat_minor": 2
}
